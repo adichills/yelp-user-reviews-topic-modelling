{
 "cells": [
  {
   "cell_type": "code",
   "execution_count": 1,
   "metadata": {},
   "outputs": [],
   "source": [
    "#Data path\n",
    "restaurant_data_path = 'data/restaurants.json'\n",
    "#restaurant_reviews_data_path = 'output/restaurant_reviews.json'\n",
    "restaurant_reviews_latest_data_path = 'data/restaurant_reviews_latest.json'\n"
   ]
  },
  {
   "cell_type": "code",
   "execution_count": 2,
   "metadata": {},
   "outputs": [],
   "source": [
    "# load restaurant data into a data frame\n",
    "import pandas as pd\n",
    "import json\n",
    "import matplotlib.pyplot as plt\n",
    "%matplotlib inline\n",
    "\n",
    "def load_restaurants_into_df(filename,keys):\n",
    "    list_of_restaurants = []\n",
    "    with open(restaurant_data_path,'r',encoding='utf-8') as f:\n",
    "        for line in f:\n",
    "            row = json.loads(line)\n",
    "            row_dict = {}\n",
    "            for key in keys:\n",
    "                row_dict[key] = row[key]\n",
    "            \n",
    "            list_of_restaurants.append(row_dict)\n",
    "    \n",
    "    return pd.DataFrame(list_of_restaurants)\n",
    "\n",
    "restaurants_df = load_restaurants_into_df(restaurant_data_path,['business_id','stars','state'])\n",
    "\n",
    "    "
   ]
  },
  {
   "cell_type": "code",
   "execution_count": 3,
   "metadata": {},
   "outputs": [
    {
     "data": {
      "text/plain": [
       "<matplotlib.axes._subplots.AxesSubplot at 0x7fd093e092b0>"
      ]
     },
     "execution_count": 3,
     "metadata": {},
     "output_type": "execute_result"
    },
    {
     "data": {
      "image/png": "[encoded data removed]",
      "text/plain": [
       "<Figure size 1440x1440 with 1 Axes>"
      ]
     },
     "metadata": {
      "needs_background": "light"
     },
     "output_type": "display_data"
    }
   ],
   "source": [
    "grouped = restaurants_df.groupby('state').size().reset_index(name='counts')\n",
    "grouped_by_count_gt_1000 = grouped[grouped.counts > 1000].sort_values(by='counts',ascending = False)\n",
    "grouped_by_count_gt_1000.plot.bar(x='state', y='counts',figsize=(20,20),fontsize=(10))\n"
   ]
  },
  {
   "cell_type": "code",
   "execution_count": 4,
   "metadata": {},
   "outputs": [],
   "source": [
    "# Based on above grave we will pick one of states with higher restaurants in United states - say NV"
   ]
  },
  {
   "cell_type": "code",
   "execution_count": null,
   "metadata": {},
   "outputs": [
    {
     "name": "stderr",
     "output_type": "stream",
     "text": [
      "[nltk_data] Downloading package punkt to /home/ubuntu/nltk_data...\n",
      "[nltk_data]   Package punkt is already up-to-date!\n"
     ]
    }
   ],
   "source": [
    "state_code = 'NV'\n",
    "state_restaurants = restaurants_df[restaurants_df.state == state_code]\n",
    "restaurant_ids = set(state_restaurants.business_id.values)\n",
    "\n",
    "import nltk\n",
    "ps = nltk.PorterStemmer()\n",
    "nltk.download('punkt')\n",
    "def get_stemmed_text(text):\n",
    "    tokens = nltk.word_tokenize(text)\n",
    "    stemmed_tokens = [ps.stem(x) for x in tokens]\n",
    "    return ' '.join(stemmed_tokens)\n",
    "\n",
    "def load_user_reviews_by_business(filename,restaurant_ids):\n",
    "    reviews = []\n",
    "    with open(filename,'r',encoding='utf-8') as f:\n",
    "        for line in f:\n",
    "            row = json.loads(line)\n",
    "            business_id = row['business_id']\n",
    "            if business_id in restaurant_ids:\n",
    "                row['text'] = get_stemmed_text(row['text'])\n",
    "                reviews.append(row)\n",
    "    \n",
    "    return pd.DataFrame(reviews)\n",
    "\n",
    "state_restaurant_reviews_df = load_user_reviews_by_business(restaurant_reviews_latest_data_path,restaurant_ids)\n",
    "state_restaurant_reviews_df.shape\n"
   ]
  },
  {
   "cell_type": "code",
   "execution_count": null,
   "metadata": {},
   "outputs": [],
   "source": [
    "state_restaurant_reviews_df['review_length'] = state_restaurant_reviews_df.text.map(len)\n",
    "star1_df = state_restaurant_reviews_df[state_restaurant_reviews_df.stars == 1]\n",
    "star1_df.shape"
   ]
  },
  {
   "cell_type": "code",
   "execution_count": null,
   "metadata": {},
   "outputs": [],
   "source": [
    "import seaborn as sns\n",
    "sns.set()\n",
    "ax = sns.FacetGrid(data=state_restaurant_reviews_df, col='stars', xlim=(0, 2000)).map(plt.hist, 'review_length', bins=50)\n",
    "ax.axes[0][0].set(ylabel='number of reviews');"
   ]
  },
  {
   "cell_type": "code",
   "execution_count": null,
   "metadata": {},
   "outputs": [],
   "source": [
    "pos_reviews = state_restaurant_reviews_df.text[state_restaurant_reviews_df.stars>3].values\n",
    "neg_reviews = state_restaurant_reviews_df.text[state_restaurant_reviews_df.stars<3].values\n",
    "print('Postive Reviews:  {:,}'.format(len(pos_reviews)))\n",
    "print('Negative Reviews:  {:,}'.format(len(neg_reviews)))\n"
   ]
  },
  {
   "cell_type": "code",
   "execution_count": null,
   "metadata": {},
   "outputs": [],
   "source": [
    "%%time\n",
    "# neg_reviews = neg_reviews[:300]\n",
    "# pos_reviews = pos_reviews[:300]\n",
    "from sklearn.feature_extraction.text import CountVectorizer\n",
    "tf_pos = CountVectorizer(stop_words='english', min_df=10, max_df=0.5, \n",
    "                        ngram_range=(1,1), token_pattern='[a-z][a-z]+')\n",
    "\n",
    "tf_neg = CountVectorizer(stop_words='english', min_df=10, max_df=0.5, \n",
    "                        ngram_range=(1,1), token_pattern='[a-z][a-z]+')\n",
    "\n",
    "neg_vectors = tf_neg.fit_transform(neg_reviews)\n",
    "pos_vectors = tf_pos.fit_transform(pos_reviews)"
   ]
  },
  {
   "cell_type": "code",
   "execution_count": null,
   "metadata": {},
   "outputs": [],
   "source": [
    "from time import time\n",
    "t0 = time()\n",
    "timeList = []\n",
    "\n"
   ]
  },
  {
   "cell_type": "code",
   "execution_count": 14,
   "metadata": {},
   "outputs": [
    {
     "name": "stdout",
     "output_type": "stream",
     "text": [
      "CPU times: user 30 µs, sys: 0 ns, total: 30 µs\n",
      "Wall time: 34.1 µs\n"
     ]
    }
   ],
   "source": [
    "%%time\n",
    "\n",
    "from sklearn.decomposition import LatentDirichletAllocation\n",
    "\n",
    "\n",
    "def train_lda(num_topics,max_iter,pos_vectors,neg_vectors):\n",
    "    lda_pos = LatentDirichletAllocation(n_components=num_topics, max_iter=max_iter,\n",
    "                                learning_method='online',\n",
    "                                learning_offset=50.,\n",
    "                                random_state=0)\n",
    "    W_pos = lda_pos.fit_transform(pos_vectors)\n",
    "    H_pos = lda_pos.components_\n",
    "    \n",
    "    \n",
    "    lda_neg = LatentDirichletAllocation(n_components=num_topics, max_iter=max_iter,\n",
    "                                learning_method='online',\n",
    "                                learning_offset=50.,\n",
    "                                random_state=0)\n",
    "    W_neg = lda_neg.fit_transform(neg_vectors)\n",
    "    H_neg = lda_neg.components_\n",
    "    \n",
    "    return lda_pos,lda_neg,W_pos,H_pos,W_neg,H_neg\n",
    "\n",
    "\n",
    "import numpy as np\n",
    "def display_topics(model, feature_names, num_topics, no_top_words,no_top_documents,W,documents):\n",
    "    topic_list = []\n",
    "    for topic_idx, topic in enumerate(model.components_):\n",
    "        if topic_idx < num_topics:\n",
    "            topic_ = str(\"{:11}\".format(\"Topic %d:\" %(topic_idx)))\n",
    "            topic_words = str(\", \".join(['{:04.3f}*'.format(topic[i])+feature_names[i] \\\n",
    "                             for i in topic.argsort()[:-no_top_words-1:-1]]))\n",
    "            topic_list.append(topic_+topic_words)\n",
    "            \n",
    "    return topic_list\n",
    "\n",
    "def write_list_to_file(filename,list_of_strings):\n",
    "    with open(filename,'w',encoding='utf-8') as f:\n",
    "        for string in list_of_strings:\n",
    "            f.write(string + '\\n')\n",
    "\n",
    "def run_full_flow(num_topics,max_iter,pos_vectors,neg_vectors):\n",
    "    t0 = time()\n",
    "    lda_pos,lda_neg,W_pos,H_pos,W_neg,H_neg = train_lda(num_topics,max_iter,pos_vectors,neg_vectors)\n",
    "    time_taken = time() - t0\n",
    "    seconds = str(\"%0.3fs.\" % (time_taken))\n",
    "    timeList.append(\"Topics: \" + str(num_topics) + \" \" + \"Iterations: \" + str(max_iter) + \" \" + \"Time: \" + seconds)\n",
    "    no_top_words = 9\n",
    "    positive_topic_list = display_topics(lda_pos, tf_pos.get_feature_names(), num_topics, no_top_words,2,W_pos,pos_reviews)\n",
    "    negative_topic_list = display_topics(lda_neg, tf_neg.get_feature_names(), num_topics, no_top_words,2,W_neg,neg_reviews)\n",
    "    \n",
    "    pos_perplexity = lda_pos.perplexity(pos_vectors)\n",
    "    neg_perplexity = lda_neg.perplexity(neg_vectors)\n",
    "    \n",
    "    pos_log_likelihood = lda_pos.score(pos_vectors)\n",
    "    neg_log_likelihood = lda_neg.score(neg_vectors)\n",
    "    \n",
    "    measures = []\n",
    "    measures.append('POS_Perplexity,'+ str(pos_perplexity))\n",
    "    measures.append('NEG_Perplexity,'+ str(neg_perplexity))\n",
    "    measures.append('POS_LL,'+ str(pos_log_likelihood))\n",
    "    measures.append('NEG_LL,'+ str(neg_log_likelihood))\n",
    "    \n",
    "    write_list_to_file('output_nv_stem/' + str(num_topics) + \"_\" + str(max_iter) + '_model_evaluation.txt',measures)\n",
    "    \n",
    "    pos_topics_file_name = str(num_topics) + \"_\" + str(max_iter) +  \"_positive_topics.txt\" \n",
    "    neg_topics_file_name = str(num_topics) + \"_\" + str(max_iter) +  \"_negative_topics.txt\"\n",
    "    \n",
    "    write_list_to_file('output_nv_stem/'+ pos_topics_file_name,positive_topic_list)\n",
    "    write_list_to_file('output_nv_stem/'+ neg_topics_file_name,negative_topic_list)\n",
    "    \n",
    "    \n",
    "    state_restaurant_pos_reviews_df = state_restaurant_reviews_df[['business_id', 'stars', 'text', 'review_length']][state_restaurant_reviews_df.stars>3].reset_index()\n",
    "    state_restaurant_neg_reviews_df = state_restaurant_reviews_df[['business_id', 'stars', 'text', 'review_length']][state_restaurant_reviews_df.stars<3].reset_index()\n",
    "    state_restaurant_pos_reviews_df.drop(labels='index', axis=1, inplace=True)\n",
    "    state_restaurant_neg_reviews_df.drop(labels='index', axis=1, inplace=True)\n",
    "    \n",
    "    from sklearn.preprocessing import normalize\n",
    "    \n",
    "    state_restaurant_pos_reviews_cm = pd.concat([state_restaurant_pos_reviews_df, pd.DataFrame(normalize(W_pos, norm='l1'))], axis=1)\n",
    "    state_restaurant_neg_reviews_cm = pd.concat([state_restaurant_neg_reviews_df, pd.DataFrame(normalize(W_neg, norm='l1'))], axis=1)\n",
    "\n",
    "\n",
    "    state_restaurant_pos_reviews_cm.drop(labels='text', axis=1, inplace=True)\n",
    "    state_restaurant_pos_reviews_cm.drop(labels='review_length', axis=1, inplace=True)\n",
    "    state_restaurant_neg_reviews_cm.drop(labels='text', axis=1, inplace=True)\n",
    "    state_restaurant_neg_reviews_cm.drop(labels='review_length', axis=1, inplace=True)\n",
    "    \n",
    "    agg_topic_vector_columns = {x:'mean' for x in range(num_topics)}\n",
    "    agg_topic_vector_columns['stars'] = 'mean'\n",
    "\n",
    "    df_pos_bsns = state_restaurant_pos_reviews_cm.groupby('business_id').agg(agg_topic_vector_columns).reset_index()\n",
    "    df_neg_bsns = state_restaurant_neg_reviews_cm.groupby('business_id').agg(agg_topic_vector_columns).reset_index()\n",
    "    \n",
    "    merged_business_topic_df = pd.merge(df_pos_bsns, df_neg_bsns, on='business_id', how='outer',suffixes=('_pos', '_neg'))\n",
    "    \n",
    "    \n",
    "    merged_business_topic_df = merged_business_topic_df.fillna(0)\n",
    "    merged_business_topic_df = pd.merge(merged_business_topic_df,restaurants_df,on='business_id',how='inner')\n",
    "    \n",
    "    \n",
    "    pos_feature_names = [str(x)+'_pos' for x in range(num_topics)]\n",
    "    neg_feature_names = [str(x)+'_neg' for x in range(num_topics)]\n",
    "    feature_cols = pos_feature_names + neg_feature_names\n",
    "    X = merged_business_topic_df.loc[:, feature_cols]\n",
    "    X.shape\n",
    "    Y = merged_business_topic_df.loc[:, ['stars']].values.ravel()\n",
    "    Y.shape\n",
    "    \n",
    "    from sklearn.linear_model import LinearRegression\n",
    "\n",
    "    from sklearn.metrics import mean_squared_error\n",
    "    from scipy.stats import pearsonr\n",
    "    from math import sqrt\n",
    "    \n",
    "    from sklearn.svm import SVR\n",
    "\n",
    "    def run_supervised(X_Train,Y_Train,X_Test,Y_Test):\n",
    "        model = SVR(gamma='scale', C=1.0, epsilon=0.2)\n",
    "        model.fit(X_Train,Y_Train)\n",
    "        Y_Pred = model.predict(X_Test)\n",
    "        MSE = mean_squared_error(Y_Test,Y_Pred)\n",
    "        print(MSE)\n",
    "        Pearsons_coefficient,p_value = pearsonr(Y_Test,Y_Pred)\n",
    "        mse = \"MSE,\" + str(MSE)\n",
    "        pearsons = \"Pearsons,\" + str(Pearsons_coefficient)\n",
    "        rmse = \"RMSE,\" + str(sqrt(MSE))\n",
    "        return [mse,pearsons,rmse]\n",
    "        \n",
    "        \n",
    "    split = int(0.85 * Y.shape[0])\n",
    "    X_Train = X[:split]\n",
    "    Y_Train = Y[:split]\n",
    "\n",
    "    X_Test = X[split:]\n",
    "    Y_Test = Y[split:]\n",
    "\n",
    "    evaluation_metrics = run_supervised(X_Train,Y_Train,X_Test,Y_Test)\n",
    "    \n",
    "    metrics_file_name = str(num_topics) + \"_\" + str(max_iter) + '_evaluation_metrics.txt'\n",
    "    write_list_to_file('output_nv_stem/' + metrics_file_name,evaluation_metrics)\n",
    "\n",
    "# # change num_topics  start with 6 then go to 7 8 9 10 and 15 , you can see that 9 gives the best MSE ,RMSE and pearson\n",
    "# num_topics = 6\n",
    "# max_iter = 1\n",
    "\n",
    "\n",
    "# nmf_pos = LatentDirichletAllocation(n_components=num_topics, max_iter=max_iter,\n",
    "#                                 learning_method='online',\n",
    "#                                 learning_offset=50.,\n",
    "#                                 random_state=0)\n",
    "\n",
    "# W_pos = nmf_pos.fit_transform(pos_vectors)\n",
    "# H_pos = nmf_pos.components_\n",
    "\n",
    "# nmf_neg = LatentDirichletAllocation(n_components=num_topics, max_iter=max_iter,\n",
    "#                                 learning_method='online',\n",
    "#                                 learning_offset=50.,\n",
    "#                                 random_state=0)\n",
    "# W_neg = nmf_neg.fit_transform(neg_vectors)\n",
    "# H_neg = nmf_neg.components_"
   ]
  },
  {
   "cell_type": "code",
   "execution_count": null,
   "metadata": {},
   "outputs": [
    {
     "name": "stdout",
     "output_type": "stream",
     "text": [
      "1.2091013712092753\n",
      "1.2590230768550763\n",
      "1.2470049884259506\n",
      "1.0949778838192548\n",
      "1.0991303808819106\n",
      "1.4570617862462647\n",
      "1.3157203812679297\n",
      "1.2562368097207743\n"
     ]
    }
   ],
   "source": [
    "topics = [5,8,10,15,23]\n",
    "no_of_iterations=[1,5,10]\n",
    "for topic in topics:\n",
    "    for iteration in no_of_iterations:    \n",
    "        run_full_flow(topic,iteration,pos_vectors,neg_vectors)"
   ]
  },
  {
   "cell_type": "code",
   "execution_count": null,
   "metadata": {},
   "outputs": [],
   "source": [
    "write_list_to_file('output_nv_stem/times_list.txt',timeList)"
   ]
  },
  {
   "cell_type": "code",
   "execution_count": null,
   "metadata": {},
   "outputs": [],
   "source": []
  }
 ],
 "metadata": {
  "kernelspec": {
   "display_name": "Python 3",
   "language": "python",
   "name": "python3"
  },
  "language_info": {
   "codemirror_mode": {
    "name": "ipython",
    "version": 3
   },
   "file_extension": ".py",
   "mimetype": "text/x-python",
   "name": "python",
   "nbconvert_exporter": "python",
   "pygments_lexer": "ipython3",
   "version": "3.6.7"
  }
 },
 "nbformat": 4,
 "nbformat_minor": 2
}
